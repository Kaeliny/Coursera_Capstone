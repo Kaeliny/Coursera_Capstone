{
    "cells": [
        {
            "cell_type": "markdown",
            "metadata": {
                "collapsed": true
            },
            "source": "# Capstone Project - The Battle of Neighborhoods (week 1)"
        },
        {
            "cell_type": "markdown",
            "metadata": {},
            "source": "### 1. Description of the problem and a discussion of the background\n\nBoth New York City and Toronto are the financial capitals of their respective country, and are very interesting cities in North America. Nevertheless, both cities are very different: for example, New York has 8.4 million inhabitants (2018, Wikipedia), when Toronto only has 2.9 million (2017, Wikipedia).\nWe want to assess the differences between these two cities by comparing the venues in their neighborhoods: can we see significant differences between the density of venues between NY and Toronto? Are the types of venues different? Can we make a conclusion about the similarity or disimilarity between the two cities out of these Data?\n\nIn a second part, we will compare these two North American cities with the Swiss City of Zurich in Europe. Just like NY or Toronto, Zurich is the financial capital of Switzerland without being its administrative capital. Zurich has 0.4 million inhabitants (2017, Wikipedia) and is therefore significantly smaller than Toronto or New York. Is Zurich less cosmopolitan than New York or Toronto due to its smaller size? Is it possible to make such an affirmation based on Foursquare Data?\n\nGoal of the following analysis is to use Foursquare data to analyse the differences/similarities between the different neighborhoods of New York, Toronto and Zurich, based on:\n\nthe density of venues within a defined radius per neighborhood\ntypes of most common venues per neighborhoods The analysis will be followed by a discussion and critic of this method of comparison (advantages, shortcoming, etc.).\n\n### 2. Description of the Data and of how it will be used to solve the Problem\n\nIn order to achieve our goals, the following steps will be followed:\n\nToronto: data mining, preprocessing and preparation of the data\nDownload the dataset for Toronto neighborhoods (Borough, Neighborhood, Longitude, Latitude)-> use the data out of the previous lab (Week 3, extracted from Wikipedia Page) and create a panda dataframe\nFor each neighborhoods, get the number of venues within a radius of x -> get the data out of foursquare\nFor each neighborhoods, get the most common type of venues out of Foursquare Data\nNY City: data mining, preprocessing and preparation of the data\nDownload the dataset for NY neighborhoods (Borough, Neighborhood, Longitude, Latitude)-> use the data out of the previous lab and create a panda dataframe\nFor each neighborhoods, get the number of venues within a radius of x -> get the data out of foursquare\nFor each neighborhoods, get the most common type of venues out of Foursquare Data\nZurich: data mining, preprocessing and preparation of the data\nFind the dataset for Zurich neighborhoods (Borough, Neighborhood, Longitude, Latitude)-> data are available on wikipedia\nFor each neighborhoods, get the number of venues within a radius of x -> get the data out of foursquare\nFor each neighborhoods, get the most common type of venues out of Foursquare Dat\nAnalyse the Data:\n\nAn important point before starting the analysis is to make sure that the data have similar format and can be compared. The similar format will be ensured during the preprocessing of the data. In order to compare the cities, the radius for which the venues will be extracted will be kept similar for each city. The results will be shown as the number of venues divided by the numbers of neighborhoods. In addition, we will look at the most common venue in each city, and see if the results are different for NY, Toronto and Zurich.\n\nOut of the results, we will try to assess how similar NY and Toronto are, and significant differences can be seen with a non-north american city which is smaller.\n"
        }
    ],
    "metadata": {
        "kernelspec": {
            "display_name": "Python 3.6",
            "language": "python",
            "name": "python3"
        },
        "language_info": {
            "codemirror_mode": {
                "name": "ipython",
                "version": 3
            },
            "file_extension": ".py",
            "mimetype": "text/x-python",
            "name": "python",
            "nbconvert_exporter": "python",
            "pygments_lexer": "ipython3",
            "version": "3.6.9"
        }
    },
    "nbformat": 4,
    "nbformat_minor": 1
}